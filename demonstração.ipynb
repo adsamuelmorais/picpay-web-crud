{
 "cells": [
  {
   "cell_type": "markdown",
   "metadata": {},
   "source": [
    "## Demonstração das funcionalidades da aplicação"
   ]
  },
  {
   "cell_type": "markdown",
   "metadata": {},
   "source": [
    "**Executar o flask no terminal para que os enpoints estejam acessíveis**\n",
    "\n",
    "```bash\n",
    "$ flask run\n",
    " * Debug mode: off\n",
    "WARNING: This is a development server. Do not use it in a production deployment. Use a production WSGI server instead.\n",
    " * Running on http://127.0.0.1:5000\n",
    "Press CTRL+C to quit\n",
    "```"
   ]
  },
  {
   "cell_type": "code",
   "execution_count": 29,
   "metadata": {},
   "outputs": [
    {
     "name": "stdout",
     "output_type": "stream",
     "text": [
      "{\"message\":\"Usu\\u00e1rio criado com sucesso\",\"user_id\":1}\n"
     ]
    }
   ],
   "source": [
    "# Insere usuário\n",
    "!curl -X POST -H \"Content-Type: application/json\" -d '{\"name\": \"João Silva\", \"email\": \"teste@gmail.com\", \"birth_date\": \"1987-06-04\"}' http://127.0.0.1:5000/users"
   ]
  },
  {
   "cell_type": "code",
   "execution_count": 31,
   "metadata": {},
   "outputs": [
    {
     "name": "stdout",
     "output_type": "stream",
     "text": [
      "[{\"birth_date\":\"Thu, 04 Jun 1987 00:00:00 GMT\",\"email\":\"teste@gmail.com\",\"id\":1,\"name\":\"João Silva\"}]\n"
     ]
    }
   ],
   "source": [
    "# Verifica criação do usuário listando todos\n",
    "!curl -X GET -H \"Content-Type: application/json\" http://127.0.0.1:5000/users"
   ]
  },
  {
   "cell_type": "code",
   "execution_count": 6,
   "metadata": {},
   "outputs": [
    {
     "name": "stdout",
     "output_type": "stream",
     "text": [
      "{\"birth_date\":\"Mon, 01 Jun 1987 00:00:00 GMT\",\"email\":\"teste@gmail.com\",\"id\":1,\"name\":\"João Silva\"}\n"
     ]
    }
   ],
   "source": [
    "# Consulta dados do usuário pelo id\n",
    "!curl -X GET -H \"Content-Type: application/json\" http://127.0.0.1:5000/users/1"
   ]
  },
  {
   "cell_type": "code",
   "execution_count": 33,
   "metadata": {},
   "outputs": [
    {
     "name": "stdout",
     "output_type": "stream",
     "text": [
      "{\"message\":\"Usu\\u00e1rio atualizado com sucesso\",\"user_id\":1}\n"
     ]
    }
   ],
   "source": [
    "# Realiza a atualização do campo email para o usuário de id 1\n",
    "!curl -X PUT -H \"Content-Type: application/json\" -d '{\"email\": \"teste@hotmail.com\"}' http://127.0.0.1:5000/users/1"
   ]
  },
  {
   "cell_type": "code",
   "execution_count": 34,
   "metadata": {},
   "outputs": [
    {
     "name": "stdout",
     "output_type": "stream",
     "text": [
      "{\"birth_date\":\"Thu, 04 Jun 1987 00:00:00 GMT\",\"email\":\"teste@hotmail.com\",\"id\":1,\"name\":\"João Silva\"}\n"
     ]
    }
   ],
   "source": [
    "# Confirma a alteração\n",
    "!curl -X GET -H \"Content-Type: application/json\" http://127.0.0.1:5000/users/1"
   ]
  },
  {
   "cell_type": "code",
   "execution_count": 25,
   "metadata": {},
   "outputs": [
    {
     "name": "stdout",
     "output_type": "stream",
     "text": [
      "<!doctype html>\n",
      "<html lang=en>\n",
      "<title>400 Bad Request</title>\n",
      "<h1>Bad Request</h1>\n",
      "<p>b&#34;O valor &#39;email_invalido&#39; para o campo &#39;email&#39; \\xc3\\xa9 inv\\xc3\\xa1lido.&#34;</p>\n"
     ]
    }
   ],
   "source": [
    "# Tentativa de alterar o email com um formato inválido\n",
    "!curl -X PUT -H \"Content-Type: application/json\" -d '{\"email\": \"email_invalido\"}' http://127.0.0.1:5000/users/1"
   ]
  },
  {
   "cell_type": "code",
   "execution_count": 35,
   "metadata": {},
   "outputs": [
    {
     "name": "stdout",
     "output_type": "stream",
     "text": [
      "{\"message\":\"Usu\\u00e1rio deletado com sucesso\",\"user_id\":1}\n"
     ]
    }
   ],
   "source": [
    "# Deletando usuário pelo id\n",
    "!curl -X DELETE -H \"Content-Type: application/json\" http://127.0.0.1:5000/users/1"
   ]
  },
  {
   "cell_type": "code",
   "execution_count": 36,
   "metadata": {},
   "outputs": [
    {
     "name": "stdout",
     "output_type": "stream",
     "text": [
      "[]\n"
     ]
    }
   ],
   "source": [
    "# Confirma a exclusão\n",
    "!curl -X GET -H \"Content-Type: application/json\" http://127.0.0.1:5000/users"
   ]
  }
 ],
 "metadata": {
  "kernelspec": {
   "display_name": "Users CRUD presentation",
   "language": "python",
   "name": "users_crud"
  },
  "language_info": {
   "codemirror_mode": {
    "name": "ipython",
    "version": 3
   },
   "file_extension": ".py",
   "mimetype": "text/x-python",
   "name": "python",
   "nbconvert_exporter": "python",
   "pygments_lexer": "ipython3",
   "version": "3.12.3"
  }
 },
 "nbformat": 4,
 "nbformat_minor": 2
}
