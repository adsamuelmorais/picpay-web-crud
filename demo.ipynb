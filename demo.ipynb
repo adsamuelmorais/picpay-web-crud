{
 "cells": [
  {
   "cell_type": "markdown",
   "metadata": {},
   "source": [
    "## Demonstração das funcionalidades da aplicação"
   ]
  },
  {
   "cell_type": "code",
   "execution_count": null,
   "metadata": {},
   "outputs": [],
   "source": [
    "# Insere usuário\n",
    "!curl -X POST -H \"Content-Type: application/json\" -d '{\"name\": \"João Silva\", \"email\": \"teste@gmail.com\", \"birth_date\": \"1987-06-04\"}' http://127.0.0.1:5000/users"
   ]
  },
  {
   "cell_type": "code",
   "execution_count": null,
   "metadata": {},
   "outputs": [],
   "source": [
    "# Verifica criação do usuário listando todos\n",
    "!curl -X GET -H \"Content-Type: application/json\" http://127.0.0.1:5000/users"
   ]
  },
  {
   "cell_type": "code",
   "execution_count": null,
   "metadata": {},
   "outputs": [],
   "source": [
    "# Consulta dados do usuário pelo id\n",
    "!curl -X GET -H \"Content-Type: application/json\" http://127.0.0.1:5000/users/1"
   ]
  },
  {
   "cell_type": "code",
   "execution_count": null,
   "metadata": {},
   "outputs": [],
   "source": [
    "# Realiza a atualização do campo email para o usuário de id 1\n",
    "!curl -X PUT -H \"Content-Type: application/json\" -d '{\"email\": \"teste@hotmail.com\"}' http://127.0.0.1:5000/users/1"
   ]
  },
  {
   "cell_type": "code",
   "execution_count": null,
   "metadata": {},
   "outputs": [],
   "source": [
    "# Confirma a alteração\n",
    "!curl -X GET -H \"Content-Type: application/json\" http://127.0.0.1:5000/users/1"
   ]
  },
  {
   "cell_type": "code",
   "execution_count": null,
   "metadata": {},
   "outputs": [],
   "source": [
    "# Tentativa de alterar o email com um formato inválido\n",
    "!curl -X PUT -H \"Content-Type: application/json\" -d '{\"email\": \"email_invalido\"}' http://127.0.0.1:5000/users/1"
   ]
  },
  {
   "cell_type": "code",
   "execution_count": null,
   "metadata": {},
   "outputs": [],
   "source": [
    "# Deletando usuário pelo id\n",
    "!curl -X DELETE -H \"Content-Type: application/json\" http://127.0.0.1:5000/users/1"
   ]
  },
  {
   "cell_type": "code",
   "execution_count": null,
   "metadata": {},
   "outputs": [],
   "source": [
    "# Confirma a exclusão\n",
    "!curl -X GET -H \"Content-Type: application/json\" http://127.0.0.1:5000/users"
   ]
  }
 ],
 "metadata": {
  "kernelspec": {
   "display_name": ".venv",
   "language": "python",
   "name": "python3"
  },
  "language_info": {
   "codemirror_mode": {
    "name": "ipython",
    "version": 3
   },
   "file_extension": ".py",
   "mimetype": "text/x-python",
   "name": "python",
   "nbconvert_exporter": "python",
   "pygments_lexer": "ipython3",
   "version": "3.12.3"
  }
 },
 "nbformat": 4,
 "nbformat_minor": 2
}
